{
 "cells": [
  {
   "cell_type": "code",
   "execution_count": 1,
   "metadata": {
    "collapsed": true
   },
   "outputs": [],
   "source": [
    "import sys\n",
    "sys.path.append(\"../GarNet\")\n",
    "\n",
    "import pandas as pd\n",
    "import numpy as np\n",
    "\n",
    "import garnet\n",
    "\n",
    "# Having issues importing despite module exising in virtual environment? \n",
    "# See https://github.com/jupyter/notebook/issues/397"
   ]
  },
  {
   "cell_type": "markdown",
   "metadata": {},
   "source": [
    "# Generate GarNet file\n",
    "\n",
    "Skip this if GarNet file has already been generated. \n",
    "\n",
    "Reference file can be generated as seen in Part I of `Construct_hg19_GarNet_File.ipynb`. "
   ]
  },
  {
   "cell_type": "code",
   "execution_count": 2,
   "metadata": {},
   "outputs": [
    {
     "name": "stderr",
     "output_type": "stream",
     "text": [
      "03:57:23 - GarNet: INFO -   - TSS file already exists here ../garnet_data/reference/reference.hg19.tss.bed\n",
      "03:57:23 - GarNet: INFO -   - Searching for motifs near genes. This may take a while...\n",
      "03:57:25 - GarNet: INFO -   - 23192 motif-gene associations found and written to ../garnet_data/motifMap_hg19_short/garnetDB.motifmap.hg19.short.tsv\n"
     ]
    },
    {
     "data": {
      "text/html": [
       "<div>\n",
       "<table border=\"1\" class=\"dataframe\">\n",
       "  <thead>\n",
       "    <tr style=\"text-align: right;\">\n",
       "      <th></th>\n",
       "      <th>motifChrom</th>\n",
       "      <th>motifStart</th>\n",
       "      <th>motifEnd</th>\n",
       "      <th>motifName</th>\n",
       "      <th>motifScore</th>\n",
       "      <th>motifStrand</th>\n",
       "      <th>geneName</th>\n",
       "      <th>tssStart</th>\n",
       "      <th>tssEnd</th>\n",
       "      <th>motif_gene_distance</th>\n",
       "    </tr>\n",
       "  </thead>\n",
       "  <tbody>\n",
       "    <tr>\n",
       "      <th>0</th>\n",
       "      <td>chr1</td>\n",
       "      <td>59236</td>\n",
       "      <td>59242</td>\n",
       "      <td>NKX3-2</td>\n",
       "      <td>1.000000</td>\n",
       "      <td>-</td>\n",
       "      <td>OR4F5</td>\n",
       "      <td>69090</td>\n",
       "      <td>69091</td>\n",
       "      <td>-9854</td>\n",
       "    </tr>\n",
       "    <tr>\n",
       "      <th>1</th>\n",
       "      <td>chr1</td>\n",
       "      <td>62757</td>\n",
       "      <td>62764</td>\n",
       "      <td>SOX10</td>\n",
       "      <td>0.038916</td>\n",
       "      <td>+</td>\n",
       "      <td>OR4F5</td>\n",
       "      <td>69090</td>\n",
       "      <td>69091</td>\n",
       "      <td>-6326</td>\n",
       "    </tr>\n",
       "    <tr>\n",
       "      <th>2</th>\n",
       "      <td>chr1</td>\n",
       "      <td>62780</td>\n",
       "      <td>62787</td>\n",
       "      <td>TBP</td>\n",
       "      <td>1.000000</td>\n",
       "      <td>+</td>\n",
       "      <td>OR4F5</td>\n",
       "      <td>69090</td>\n",
       "      <td>69091</td>\n",
       "      <td>-6303</td>\n",
       "    </tr>\n",
       "    <tr>\n",
       "      <th>3</th>\n",
       "      <td>chr1</td>\n",
       "      <td>62862</td>\n",
       "      <td>62868</td>\n",
       "      <td>NKX3-2</td>\n",
       "      <td>1.000000</td>\n",
       "      <td>-</td>\n",
       "      <td>OR4F5</td>\n",
       "      <td>69090</td>\n",
       "      <td>69091</td>\n",
       "      <td>-6228</td>\n",
       "    </tr>\n",
       "    <tr>\n",
       "      <th>4</th>\n",
       "      <td>chr1</td>\n",
       "      <td>62936</td>\n",
       "      <td>62942</td>\n",
       "      <td>GATA3</td>\n",
       "      <td>1.000000</td>\n",
       "      <td>-</td>\n",
       "      <td>OR4F5</td>\n",
       "      <td>69090</td>\n",
       "      <td>69091</td>\n",
       "      <td>-6154</td>\n",
       "    </tr>\n",
       "  </tbody>\n",
       "</table>\n",
       "</div>"
      ],
      "text/plain": [
       "  motifChrom  motifStart  motifEnd motifName  motifScore motifStrand geneName  \\\n",
       "0       chr1       59236     59242    NKX3-2    1.000000           -    OR4F5   \n",
       "1       chr1       62757     62764     SOX10    0.038916           +    OR4F5   \n",
       "2       chr1       62780     62787       TBP    1.000000           +    OR4F5   \n",
       "3       chr1       62862     62868    NKX3-2    1.000000           -    OR4F5   \n",
       "4       chr1       62936     62942     GATA3    1.000000           -    OR4F5   \n",
       "\n",
       "   tssStart  tssEnd  motif_gene_distance  \n",
       "0     69090   69091                -9854  \n",
       "1     69090   69091                -6326  \n",
       "2     69090   69091                -6303  \n",
       "3     69090   69091                -6228  \n",
       "4     69090   69091                -6154  "
      ]
     },
     "execution_count": 2,
     "metadata": {},
     "output_type": "execute_result"
    }
   ],
   "source": [
    "reference_file = \"../garnet_data/reference/reference.hg19.bed\"\n",
    "motif_file = \"../garnet_data/motifMap_hg19_short/hg19.motifmap.chr1.short.bed\"\n",
    "output_file = \"../garnet_data/motifMap_hg19_short/garnetDB.motifmap.hg19.short.tsv\"\n",
    "\n",
    "garnet_df = garnet.construct_garnet_file(reference_file, motif_file, output_file, 10000)\n",
    "garnet_df.head()"
   ]
  },
  {
   "cell_type": "markdown",
   "metadata": {},
   "source": [
    "# Map peaks to genes using a549 data\n",
    "\n",
    "This is accomplished by intersecting motifs with genes specified in the open chromatin bed file. "
   ]
  },
  {
   "cell_type": "code",
   "execution_count": 3,
   "metadata": {},
   "outputs": [
    {
     "data": {
      "text/html": [
       "<div>\n",
       "<table border=\"1\" class=\"dataframe\">\n",
       "  <thead>\n",
       "    <tr style=\"text-align: right;\">\n",
       "      <th></th>\n",
       "      <th>chrom</th>\n",
       "      <th>start</th>\n",
       "      <th>end</th>\n",
       "      <th>motifName</th>\n",
       "      <th>motifScore</th>\n",
       "      <th>motifStrand</th>\n",
       "      <th>geneName</th>\n",
       "      <th>geneStart</th>\n",
       "      <th>geneEnd</th>\n",
       "      <th>motif_gene_distance</th>\n",
       "    </tr>\n",
       "  </thead>\n",
       "  <tbody>\n",
       "    <tr>\n",
       "      <th>0</th>\n",
       "      <td>chr1</td>\n",
       "      <td>846647</td>\n",
       "      <td>846653</td>\n",
       "      <td>HNF4A</td>\n",
       "      <td>0.180585</td>\n",
       "      <td>-</td>\n",
       "      <td>AK056486</td>\n",
       "      <td>846814</td>\n",
       "      <td>846815</td>\n",
       "      <td>-167</td>\n",
       "    </tr>\n",
       "    <tr>\n",
       "      <th>1</th>\n",
       "      <td>chr1</td>\n",
       "      <td>847470</td>\n",
       "      <td>847477</td>\n",
       "      <td>UBP1</td>\n",
       "      <td>0.051133</td>\n",
       "      <td>-</td>\n",
       "      <td>AK056486</td>\n",
       "      <td>846814</td>\n",
       "      <td>846815</td>\n",
       "      <td>656</td>\n",
       "    </tr>\n",
       "    <tr>\n",
       "      <th>2</th>\n",
       "      <td>chr1</td>\n",
       "      <td>847471</td>\n",
       "      <td>847477</td>\n",
       "      <td>Neuro D</td>\n",
       "      <td>0.037203</td>\n",
       "      <td>-</td>\n",
       "      <td>AK056486</td>\n",
       "      <td>846814</td>\n",
       "      <td>846815</td>\n",
       "      <td>657</td>\n",
       "    </tr>\n",
       "    <tr>\n",
       "      <th>3</th>\n",
       "      <td>chr1</td>\n",
       "      <td>847471</td>\n",
       "      <td>847477</td>\n",
       "      <td>Neuro D</td>\n",
       "      <td>0.037203</td>\n",
       "      <td>+</td>\n",
       "      <td>AK056486</td>\n",
       "      <td>846814</td>\n",
       "      <td>846815</td>\n",
       "      <td>663</td>\n",
       "    </tr>\n",
       "    <tr>\n",
       "      <th>4</th>\n",
       "      <td>chr1</td>\n",
       "      <td>847525</td>\n",
       "      <td>847532</td>\n",
       "      <td>IRF1</td>\n",
       "      <td>0.681795</td>\n",
       "      <td>+</td>\n",
       "      <td>AK056486</td>\n",
       "      <td>846814</td>\n",
       "      <td>846815</td>\n",
       "      <td>718</td>\n",
       "    </tr>\n",
       "  </tbody>\n",
       "</table>\n",
       "</div>"
      ],
      "text/plain": [
       "  chrom   start     end motifName  motifScore motifStrand  geneName  \\\n",
       "0  chr1  846647  846653     HNF4A    0.180585           -  AK056486   \n",
       "1  chr1  847470  847477      UBP1    0.051133           -  AK056486   \n",
       "2  chr1  847471  847477   Neuro D    0.037203           -  AK056486   \n",
       "3  chr1  847471  847477   Neuro D    0.037203           +  AK056486   \n",
       "4  chr1  847525  847532      IRF1    0.681795           +  AK056486   \n",
       "\n",
       "   geneStart  geneEnd  motif_gene_distance  \n",
       "0     846814   846815                 -167  \n",
       "1     846814   846815                  656  \n",
       "2     846814   846815                  657  \n",
       "3     846814   846815                  663  \n",
       "4     846814   846815                  718  "
      ]
     },
     "execution_count": 3,
     "metadata": {},
     "output_type": "execute_result"
    }
   ],
   "source": [
    "peaks_file = \"a549_example_peaks.chr1.bed\"\n",
    "expression_file = \"a549_example_expression.txt\"\n",
    "\n",
    "df = garnet.map_peaks(peaks_file, output_file)\n",
    "df.head()"
   ]
  },
  {
   "cell_type": "code",
   "execution_count": 4,
   "metadata": {},
   "outputs": [
    {
     "name": "stderr",
     "output_type": "stream",
     "text": [
      "03:57:29 - GarNet: INFO - Performing linear regression for 28 transcription factor expression profiles...\n",
      "/Users/jonathanli/Documents/research/packages/GarNet2/venv/lib/python3.6/site-packages/statsmodels/base/model.py:1036: RuntimeWarning: invalid value encountered in true_divide\n",
      "  return self.params / self.bse\n",
      "/Users/jonathanli/Documents/research/packages/GarNet2/venv/lib/python3.6/site-packages/scipy/stats/_distn_infrastructure.py:879: RuntimeWarning: invalid value encountered in greater\n",
      "  return (self.a < x) & (x < self.b)\n",
      "/Users/jonathanli/Documents/research/packages/GarNet2/venv/lib/python3.6/site-packages/scipy/stats/_distn_infrastructure.py:879: RuntimeWarning: invalid value encountered in less\n",
      "  return (self.a < x) & (x < self.b)\n",
      "/Users/jonathanli/Documents/research/packages/GarNet2/venv/lib/python3.6/site-packages/scipy/stats/_distn_infrastructure.py:1818: RuntimeWarning: invalid value encountered in less_equal\n",
      "  cond2 = cond0 & (x <= self.a)\n"
     ]
    }
   ],
   "source": [
    "results = garnet.TF_regression(df, expression_file, \".\")"
   ]
  },
  {
   "cell_type": "code",
   "execution_count": null,
   "metadata": {
    "collapsed": true
   },
   "outputs": [],
   "source": []
  }
 ],
 "metadata": {
  "kernelspec": {
   "display_name": "Python 3",
   "language": "python",
   "name": "python3"
  },
  "language_info": {
   "codemirror_mode": {
    "name": "ipython",
    "version": 3
   },
   "file_extension": ".py",
   "mimetype": "text/x-python",
   "name": "python",
   "nbconvert_exporter": "python",
   "pygments_lexer": "ipython3",
   "version": "3.6.0"
  }
 },
 "nbformat": 4,
 "nbformat_minor": 1
}
