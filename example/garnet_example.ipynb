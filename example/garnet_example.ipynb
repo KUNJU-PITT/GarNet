{
 "cells": [
  {
   "cell_type": "code",
   "execution_count": null,
   "metadata": {
    "collapsed": true
   },
   "outputs": [],
   "source": [
    "import sys\n",
    "sys.path.append(\"../GarNet\")\n",
    "\n",
    "import pandas as pd\n",
    "import numpy as np\n",
    "\n",
    "import garnet"
   ]
  },
  {
   "cell_type": "markdown",
   "metadata": {},
   "source": [
    "# Generate GarNet file\n",
    "\n",
    "Reference file can be generated as seen in Part I of `Construct_hg19_GarNet_File.ipynb`. "
   ]
  },
  {
   "cell_type": "code",
   "execution_count": null,
   "metadata": {
    "collapsed": true
   },
   "outputs": [],
   "source": [
    "reference_file = \"test_data/reference.normalized.bed\"\n",
    "motif_file = \"test_data/motifmap.normalized.cleaned.short.bed\"\n",
    "output_file = \"test_data/garnetDB.tsv\"\n",
    "\n",
    "garnet.construct_garnet_file(reference_file, motif_file, output_file, 10000)"
   ]
  },
  {
   "cell_type": "markdown",
   "metadata": {},
   "source": [
    "# Map peaks to genes\n",
    "\n",
    "This is accomplished by intersecting motifs with genes specified in the open chromatin bed file. "
   ]
  },
  {
   "cell_type": "code",
   "execution_count": null,
   "metadata": {
    "collapsed": true
   },
   "outputs": [],
   "source": [
    "peaks_file = \"test_data/diffSites.bed\"\n",
    "\n",
    "df = garnet.map_peaks(peaks_file, output_file)"
   ]
  }
 ],
 "metadata": {
  "kernelspec": {
   "display_name": "Python 3",
   "language": "python",
   "name": "python3"
  },
  "language_info": {
   "codemirror_mode": {
    "name": "ipython",
    "version": 3
   },
   "file_extension": ".py",
   "mimetype": "text/x-python",
   "name": "python",
   "nbconvert_exporter": "python",
   "pygments_lexer": "ipython3",
   "version": "3.6.0"
  }
 },
 "nbformat": 4,
 "nbformat_minor": 1
}
