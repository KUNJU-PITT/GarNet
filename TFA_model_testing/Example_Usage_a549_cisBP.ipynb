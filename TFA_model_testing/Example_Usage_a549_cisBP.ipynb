{
 "cells": [
  {
   "cell_type": "markdown",
   "metadata": {},
   "source": [
    "# Example usage of GarNet"
   ]
  },
  {
   "cell_type": "code",
   "execution_count": 9,
   "metadata": {},
   "outputs": [
    {
     "data": {
      "text/plain": [
       "<module 'garnet' from '../GarNet/garnet.py'>"
      ]
     },
     "execution_count": 9,
     "metadata": {},
     "output_type": "execute_result"
    }
   ],
   "source": [
    "import numpy as np\n",
    "import pandas as pd\n",
    "\n",
    "# if you cloned the repo:\n",
    "import sys\n",
    "sys.path.append(\"../GarNet\")\n",
    "\n",
    "from importlib import reload\n",
    "reload(garnet)\n",
    "\n",
    "# Having issues importing despite module exising in virtual environment? \n",
    "# See https://github.com/jupyter/notebook/issues/397"
   ]
  },
  {
   "cell_type": "markdown",
   "metadata": {},
   "source": [
    "# Map peaks to genes using a549 data\n",
    "\n",
    "This is accomplished by intersecting motifs with genes specified in the open chromatin bed file. "
   ]
  },
  {
   "cell_type": "code",
   "execution_count": 10,
   "metadata": {},
   "outputs": [
    {
     "data": {
      "text/html": [
       "<div>\n",
       "<table border=\"1\" class=\"dataframe\">\n",
       "  <thead>\n",
       "    <tr style=\"text-align: right;\">\n",
       "      <th></th>\n",
       "      <th>chrom</th>\n",
       "      <th>start</th>\n",
       "      <th>end</th>\n",
       "      <th>motifName</th>\n",
       "      <th>motifLODScore</th>\n",
       "      <th>motifStrand</th>\n",
       "      <th>geneName</th>\n",
       "      <th>geneStart</th>\n",
       "      <th>geneEnd</th>\n",
       "      <th>motif_gene_distance</th>\n",
       "    </tr>\n",
       "  </thead>\n",
       "  <tbody>\n",
       "    <tr>\n",
       "      <th>0</th>\n",
       "      <td>chr1</td>\n",
       "      <td>565301</td>\n",
       "      <td>565308</td>\n",
       "      <td>HOXA4</td>\n",
       "      <td>7.539123</td>\n",
       "      <td>-</td>\n",
       "      <td>JA429830</td>\n",
       "      <td>566114</td>\n",
       "      <td>566115</td>\n",
       "      <td>813</td>\n",
       "    </tr>\n",
       "    <tr>\n",
       "      <th>1</th>\n",
       "      <td>chr1</td>\n",
       "      <td>565460</td>\n",
       "      <td>565467</td>\n",
       "      <td>HOXA4</td>\n",
       "      <td>7.539123</td>\n",
       "      <td>-</td>\n",
       "      <td>JA429830</td>\n",
       "      <td>566114</td>\n",
       "      <td>566115</td>\n",
       "      <td>654</td>\n",
       "    </tr>\n",
       "    <tr>\n",
       "      <th>2</th>\n",
       "      <td>chr1</td>\n",
       "      <td>568230</td>\n",
       "      <td>568241</td>\n",
       "      <td>GATA1</td>\n",
       "      <td>10.237757</td>\n",
       "      <td>-</td>\n",
       "      <td>JA429830</td>\n",
       "      <td>566114</td>\n",
       "      <td>566115</td>\n",
       "      <td>-2116</td>\n",
       "    </tr>\n",
       "    <tr>\n",
       "      <th>3</th>\n",
       "      <td>chr1</td>\n",
       "      <td>568231</td>\n",
       "      <td>568240</td>\n",
       "      <td>LMO2</td>\n",
       "      <td>8.409497</td>\n",
       "      <td>-</td>\n",
       "      <td>JA429830</td>\n",
       "      <td>566114</td>\n",
       "      <td>566115</td>\n",
       "      <td>-2117</td>\n",
       "    </tr>\n",
       "    <tr>\n",
       "      <th>4</th>\n",
       "      <td>chr1</td>\n",
       "      <td>570229</td>\n",
       "      <td>570235</td>\n",
       "      <td>HOXA4</td>\n",
       "      <td>7.118708</td>\n",
       "      <td>+</td>\n",
       "      <td>JA429830</td>\n",
       "      <td>566114</td>\n",
       "      <td>566115</td>\n",
       "      <td>-4121</td>\n",
       "    </tr>\n",
       "  </tbody>\n",
       "</table>\n",
       "</div>"
      ],
      "text/plain": [
       "  chrom   start     end motifName  motifLODScore motifStrand  geneName  \\\n",
       "0  chr1  565301  565308     HOXA4       7.539123           -  JA429830   \n",
       "1  chr1  565460  565467     HOXA4       7.539123           -  JA429830   \n",
       "2  chr1  568230  568241     GATA1      10.237757           -  JA429830   \n",
       "3  chr1  568231  568240      LMO2       8.409497           -  JA429830   \n",
       "4  chr1  570229  570235     HOXA4       7.118708           +  JA429830   \n",
       "\n",
       "   geneStart  geneEnd  motif_gene_distance  \n",
       "0     566114   566115                  813  \n",
       "1     566114   566115                  654  \n",
       "2     566114   566115                -2116  \n",
       "3     566114   566115                -2117  \n",
       "4     566114   566115                -4121  "
      ]
     },
     "execution_count": 10,
     "metadata": {},
     "output_type": "execute_result"
    }
   ],
   "source": [
    "garnet_filepath = \"../garnet_data/cisBP_hg19_SLIM/garnetDB_cisBP.hg19.LOD.10kb.chr1_SLIM.tsv\"\n",
    "peaks_filepath = \"a549_example_peaks.chr1.bed\"\n",
    "\n",
    "df = garnet.map_peaks(peaks_filepath, garnet_filepath)\n",
    "df.head()"
   ]
  },
  {
   "cell_type": "markdown",
   "metadata": {},
   "source": [
    "# Regress gene expression against TF Motif binding score"
   ]
  },
  {
   "cell_type": "markdown",
   "metadata": {},
   "source": [
    "Perform regression, plots are automatically generated in `regression_plots/`. "
   ]
  },
  {
   "cell_type": "code",
   "execution_count": 11,
   "metadata": {
    "scrolled": true
   },
   "outputs": [
    {
     "name": "stderr",
     "output_type": "stream",
     "text": [
      "02:53:45 - GarNet: INFO - Performing linear regression for 7 transcription factor expression profiles...\n",
      "02:53:45 - GarNet: INFO - Performing linear regression for 7 transcription factor expression profiles...\n",
      "02:53:45 - GarNet: INFO - Performing linear regression for 7 transcription factor expression profiles...\n",
      "02:53:45 - GarNet: INFO - Performing linear regression for 7 transcription factor expression profiles...\n"
     ]
    },
    {
     "data": {
      "text/html": [
       "<div>\n",
       "<table border=\"1\" class=\"dataframe\">\n",
       "  <thead>\n",
       "    <tr style=\"text-align: right;\">\n",
       "      <th></th>\n",
       "      <th>Transcription Factor</th>\n",
       "      <th>Slope</th>\n",
       "      <th>P-Value</th>\n",
       "      <th>Targets</th>\n",
       "    </tr>\n",
       "  </thead>\n",
       "  <tbody>\n",
       "    <tr>\n",
       "      <th>0</th>\n",
       "      <td>ATF5</td>\n",
       "      <td>0.247165</td>\n",
       "      <td>0.234486</td>\n",
       "      <td>ACOT7,CSF1,SOX13,PBXIP1,PTGS2,ID3,IL6R,KIRREL,...</td>\n",
       "    </tr>\n",
       "    <tr>\n",
       "      <th>4</th>\n",
       "      <td>HOXA4</td>\n",
       "      <td>0.149229</td>\n",
       "      <td>0.443636</td>\n",
       "      <td>IER5,LMNA,TGFB2,TMEM63A,RAB25,AMPD2,ATF3,EPB41...</td>\n",
       "    </tr>\n",
       "    <tr>\n",
       "      <th>3</th>\n",
       "      <td>GATA1</td>\n",
       "      <td>0.149975</td>\n",
       "      <td>0.491204</td>\n",
       "      <td>ELF3,S100A4,PLEKHO1,KIAA1522,CYR61,NIPAL3,ARHG...</td>\n",
       "    </tr>\n",
       "    <tr>\n",
       "      <th>6</th>\n",
       "      <td>SREBF1</td>\n",
       "      <td>0.134617</td>\n",
       "      <td>0.665189</td>\n",
       "      <td>IER5,THBS3,KIAA1522,PIK3C2B,SAMD11,EPB41,GSTM3</td>\n",
       "    </tr>\n",
       "    <tr>\n",
       "      <th>2</th>\n",
       "      <td>EGR3</td>\n",
       "      <td>-0.064156</td>\n",
       "      <td>0.727905</td>\n",
       "      <td>IER5,AMPD2,PLEKHO1,THBS3,ACOT7,EFNA1,ATF3,CYR6...</td>\n",
       "    </tr>\n",
       "    <tr>\n",
       "      <th>1</th>\n",
       "      <td>CEBPB</td>\n",
       "      <td>0.070856</td>\n",
       "      <td>0.834070</td>\n",
       "      <td>DHCR24,PIK3C2B,NBL1,NIPAL3,ST6GALNAC3,CYR61,KCNK1</td>\n",
       "    </tr>\n",
       "    <tr>\n",
       "      <th>5</th>\n",
       "      <td>LMO2</td>\n",
       "      <td>-0.006344</td>\n",
       "      <td>0.959221</td>\n",
       "      <td>ZBTB7B,S100A4,PVRL4,CAMK2N1,PLEKHO1,F11R,RASSF...</td>\n",
       "    </tr>\n",
       "  </tbody>\n",
       "</table>\n",
       "</div>"
      ],
      "text/plain": [
       "  Transcription Factor     Slope   P-Value  \\\n",
       "0                 ATF5  0.247165  0.234486   \n",
       "4                HOXA4  0.149229  0.443636   \n",
       "3                GATA1  0.149975  0.491204   \n",
       "6               SREBF1  0.134617  0.665189   \n",
       "2                 EGR3 -0.064156  0.727905   \n",
       "1                CEBPB  0.070856  0.834070   \n",
       "5                 LMO2 -0.006344  0.959221   \n",
       "\n",
       "                                             Targets  \n",
       "0  ACOT7,CSF1,SOX13,PBXIP1,PTGS2,ID3,IL6R,KIRREL,...  \n",
       "4  IER5,LMNA,TGFB2,TMEM63A,RAB25,AMPD2,ATF3,EPB41...  \n",
       "3  ELF3,S100A4,PLEKHO1,KIAA1522,CYR61,NIPAL3,ARHG...  \n",
       "6     IER5,THBS3,KIAA1522,PIK3C2B,SAMD11,EPB41,GSTM3  \n",
       "2  IER5,AMPD2,PLEKHO1,THBS3,ACOT7,EFNA1,ATF3,CYR6...  \n",
       "1  DHCR24,PIK3C2B,NBL1,NIPAL3,ST6GALNAC3,CYR61,KCNK1  \n",
       "5  ZBTB7B,S100A4,PVRL4,CAMK2N1,PLEKHO1,F11R,RASSF...  "
      ]
     },
     "execution_count": 11,
     "metadata": {},
     "output_type": "execute_result"
    }
   ],
   "source": [
    "expression_filepath = \"a549_example_expression.txt\"\n",
    "\n",
    "results = garnet.TF_regression(df, expression_filepath, \".\")\n",
    "results.head(10)"
   ]
  },
  {
   "cell_type": "markdown",
   "metadata": {},
   "source": [
    "# Appendix\n",
    "\n",
    "## Download and format reference file\n",
    "\n",
    "### 1. Download UCSC known genes file\n",
    "\n",
    "Visit [UCSC Table Browser](https://genome.ucsc.edu/cgi-bin/hgTables?command=start) and select the following options\n",
    "\n",
    " - **assembly**: Feb. 2009 (GRCh37/hg19)\n",
    " - **group**: Genes and Gene Predictions\n",
    " - **track**: UCSC Genes\n",
    " - **table**: knownGene\n",
    " - **region**: genome\n",
    " - **output format**: selected fields from primary and related tables\n",
    "\n",
    "Press \"get output\", clear all fields, then check the following fields:\n",
    "\n",
    " - chrom\n",
    " - strand\n",
    " - txStart\n",
    " - txEnd\n",
    " - geneSymbol\n",
    " \n",
    "Press \"get output\" again, and save the table locally. A copy (retrieved 9/11/2017) is saved in `../garnet_data/reference/ucsc_known_genes.hg19.tsv`.\n",
    "\n",
    "### 2. Reformat to BED file"
   ]
  },
  {
   "cell_type": "code",
   "execution_count": null,
   "metadata": {
    "collapsed": true
   },
   "outputs": [],
   "source": [
    "ucsc_reference = pd.read_csv(\"../garnet_data/reference/ucsc_known_genes.hg19.tsv\", sep='\\t', names=[\"chrom\", \"strand\", \"chromStart\", \"chromEnd\", \"name\"], comment=\"#\")\n",
    "ucsc_reference.drop_duplicates(inplace=True)\n",
    "ucsc_reference[\"score\"] = \".\"\n",
    "ucsc_reference.head()"
   ]
  },
  {
   "cell_type": "code",
   "execution_count": null,
   "metadata": {
    "collapsed": true
   },
   "outputs": [],
   "source": [
    "ucsc_reference_bed = ucsc_reference[[\"chrom\", \"chromStart\", \"chromEnd\", \"name\", \"score\", \"strand\"]]\n",
    "ucsc_reference_bed.head()"
   ]
  },
  {
   "cell_type": "code",
   "execution_count": null,
   "metadata": {
    "collapsed": true
   },
   "outputs": [],
   "source": [
    "ucsc_reference_bed.to_csv(\"../garnet_data/reference/ucsc_reference.hg19.bed\", sep='\\t', header=False, index=False)"
   ]
  },
  {
   "cell_type": "code",
   "execution_count": null,
   "metadata": {
    "collapsed": true
   },
   "outputs": [],
   "source": []
  }
 ],
 "metadata": {
  "kernelspec": {
   "display_name": "Python 3",
   "language": "python",
   "name": "python3"
  },
  "language_info": {
   "codemirror_mode": {
    "name": "ipython",
    "version": 3
   },
   "file_extension": ".py",
   "mimetype": "text/x-python",
   "name": "python",
   "nbconvert_exporter": "python",
   "pygments_lexer": "ipython3",
   "version": "3.6.0"
  }
 },
 "nbformat": 4,
 "nbformat_minor": 1
}
