{
 "cells": [
  {
   "cell_type": "markdown",
   "metadata": {},
   "source": [
    "# Example usage of GarNet"
   ]
  },
  {
   "cell_type": "code",
   "execution_count": 1,
   "metadata": {},
   "outputs": [],
   "source": [
    "import numpy as np\n",
    "import pandas as pd\n",
    "\n",
    "# if you pip installed the package: \n",
    "# import GarNet\n",
    "\n",
    "# if you cloned the repo:\n",
    "import sys\n",
    "sys.path.append(\"../GarNet\")\n",
    "import garnet\n",
    "\n",
    "# Having issues importing despite module exising in virtual environment? \n",
    "# See https://github.com/jupyter/notebook/issues/397"
   ]
  },
  {
   "cell_type": "markdown",
   "metadata": {},
   "source": [
    "# Generate GarNet file\n",
    "\n",
    "Skip this section if GarNet file has already been generated. See Appendix for how to obtain UCSC reference file."
   ]
  },
  {
   "cell_type": "code",
   "execution_count": null,
   "metadata": {},
   "outputs": [],
   "source": [
    "reference_filepath = \"../garnet_data/reference/ucsc_reference.hg19.bed\"\n",
    "motif_filepath = \"../garnet_data/cisBP_hg19_SLIM/cisBP.hg19.LOD.10kb.chr1_SLIM.bed\"\n",
    "garnet_filepath = \"../garnet_data/cisBP_hg19_SLIM/garnetDB_cisBP.hg19.LOD.10kb.chr1_SLIM.tsv\"\n",
    "\n",
    "garnet_df = garnet.construct_garnet_file(reference_filepath, motif_filepath, garnet_filepath)\n",
    "garnet_df.head()"
   ]
  },
  {
   "cell_type": "markdown",
   "metadata": {},
   "source": [
    "# Map peaks to genes using a549 data\n",
    "\n",
    "This is accomplished by intersecting motifs with genes specified in the open chromatin bed file. "
   ]
  },
  {
   "cell_type": "code",
   "execution_count": 2,
   "metadata": {},
   "outputs": [
    {
     "name": "stderr",
     "output_type": "stream",
     "text": [
      "***** WARNING: File  has inconsistent naming convention for record:\n",
      "\tmotifChrom\tmotifStart\tmotifEnd\tmotifName\tmotifScore\tmotifStrand\tgeneName\ttssStart\ttssEnd\tmotif_gene_distance\n",
      "\n",
      "***** WARNING: File  has inconsistent naming convention for record:\n",
      "\tmotifChrom\tmotifStart\tmotifEnd\tmotifName\tmotifScore\tmotifStrand\tgeneName\ttssStart\ttssEnd\tmotif_gene_distance\n",
      "\n"
     ]
    },
    {
     "data": {
      "text/html": [
       "<div>\n",
       "<table border=\"1\" class=\"dataframe\">\n",
       "  <thead>\n",
       "    <tr style=\"text-align: right;\">\n",
       "      <th></th>\n",
       "      <th>chrom</th>\n",
       "      <th>start</th>\n",
       "      <th>end</th>\n",
       "      <th>motifName</th>\n",
       "      <th>motifScore</th>\n",
       "      <th>motifStrand</th>\n",
       "      <th>geneName</th>\n",
       "      <th>geneStart</th>\n",
       "      <th>geneEnd</th>\n",
       "      <th>motif_gene_distance</th>\n",
       "    </tr>\n",
       "  </thead>\n",
       "  <tbody>\n",
       "  </tbody>\n",
       "</table>\n",
       "</div>"
      ],
      "text/plain": [
       "Empty DataFrame\n",
       "Columns: [chrom, start, end, motifName, motifScore, motifStrand, geneName, geneStart, geneEnd, motif_gene_distance]\n",
       "Index: []"
      ]
     },
     "execution_count": 2,
     "metadata": {},
     "output_type": "execute_result"
    }
   ],
   "source": [
    "garnet_filepath = \"../garnet_data/cisBP_hg19_SLIM/garnetDB_cisBP.hg19.LOD.10kb.chr1_SLIM.tsv\"\n",
    "peaks_filepath = \"a549_example_peaks.chr1.bed\"\n",
    "\n",
    "df = garnet.map_peaks(peaks_filepath, garnet_filepath)\n",
    "df.head()"
   ]
  },
  {
   "cell_type": "markdown",
   "metadata": {},
   "source": [
    "# Regress gene expression against TF Motif binding score"
   ]
  },
  {
   "cell_type": "markdown",
   "metadata": {},
   "source": [
    "Perform regression, plots are automatically generated in `regression_plots/`. "
   ]
  },
  {
   "cell_type": "code",
   "execution_count": null,
   "metadata": {
    "scrolled": true
   },
   "outputs": [],
   "source": [
    "expression_filepath = \"a549_example_expression.txt\"\n",
    "\n",
    "results = garnet.TF_regression(df, expression_filepath, \".\")\n",
    "results.head(10)"
   ]
  },
  {
   "cell_type": "markdown",
   "metadata": {},
   "source": [
    "# Appendix\n",
    "\n",
    "## Download and format reference file\n",
    "\n",
    "### 1. Download UCSC known genes file\n",
    "\n",
    "Visit [UCSC Table Browser](https://genome.ucsc.edu/cgi-bin/hgTables?command=start) and select the following options\n",
    "\n",
    " - **assembly**: Feb. 2009 (GRCh37/hg19)\n",
    " - **group**: Genes and Gene Predictions\n",
    " - **track**: UCSC Genes\n",
    " - **table**: knownGene\n",
    " - **region**: genome\n",
    " - **output format**: selected fields from primary and related tables\n",
    "\n",
    "Press \"get output\", clear all fields, then check the following fields:\n",
    "\n",
    " - chrom\n",
    " - strand\n",
    " - txStart\n",
    " - txEnd\n",
    " - geneSymbol\n",
    " \n",
    "Press \"get output\" again, and save the table locally. A copy (retrieved 9/11/2017) is saved in `../garnet_data/reference/ucsc_known_genes.hg19.tsv`.\n",
    "\n",
    "### 2. Reformat to BED file"
   ]
  },
  {
   "cell_type": "code",
   "execution_count": null,
   "metadata": {},
   "outputs": [],
   "source": [
    "ucsc_reference = pd.read_csv(\"../garnet_data/reference/ucsc_known_genes.hg19.tsv\", sep='\\t', names=[\"chrom\", \"strand\", \"chromStart\", \"chromEnd\", \"name\"], comment=\"#\")\n",
    "ucsc_reference.drop_duplicates(inplace=True)\n",
    "ucsc_reference[\"score\"] = \".\"\n",
    "ucsc_reference.head()"
   ]
  },
  {
   "cell_type": "code",
   "execution_count": null,
   "metadata": {},
   "outputs": [],
   "source": [
    "ucsc_reference_bed = ucsc_reference[[\"chrom\", \"chromStart\", \"chromEnd\", \"name\", \"score\", \"strand\"]]\n",
    "ucsc_reference_bed.head()"
   ]
  },
  {
   "cell_type": "code",
   "execution_count": null,
   "metadata": {
    "collapsed": true
   },
   "outputs": [],
   "source": [
    "ucsc_reference_bed.to_csv(\"../garnet_data/reference/ucsc_reference.hg19.bed\", sep='\\t', header=False, index=False)"
   ]
  },
  {
   "cell_type": "code",
   "execution_count": null,
   "metadata": {
    "collapsed": true
   },
   "outputs": [],
   "source": []
  }
 ],
 "metadata": {
  "kernelspec": {
   "display_name": "Python 3",
   "language": "python",
   "name": "python3"
  },
  "language_info": {
   "codemirror_mode": {
    "name": "ipython",
    "version": 3
   },
   "file_extension": ".py",
   "mimetype": "text/x-python",
   "name": "python",
   "nbconvert_exporter": "python",
   "pygments_lexer": "ipython3",
   "version": "3.6.0"
  }
 },
 "nbformat": 4,
 "nbformat_minor": 1
}
