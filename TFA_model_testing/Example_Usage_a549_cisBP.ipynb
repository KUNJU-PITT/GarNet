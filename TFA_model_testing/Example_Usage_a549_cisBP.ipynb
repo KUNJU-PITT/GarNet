{
 "cells": [
  {
   "cell_type": "markdown",
   "metadata": {},
   "source": [
    "# Example usage of GarNet"
   ]
  },
  {
   "cell_type": "code",
   "execution_count": 1,
   "metadata": {},
   "outputs": [],
   "source": [
    "import numpy as np\n",
    "import pandas as pd\n",
    "\n",
    "# if you pip installed the package: \n",
    "# import GarNet\n",
    "\n",
    "# if you cloned the repo:\n",
    "import sys\n",
    "sys.path.append(\"../GarNet\")\n",
    "import garnet\n",
    "\n",
    "# Having issues importing despite module exising in virtual environment? \n",
    "# See https://github.com/jupyter/notebook/issues/397"
   ]
  },
  {
   "cell_type": "markdown",
   "metadata": {},
   "source": [
    "# Generate GarNet file\n",
    "\n",
    "Skip this section if GarNet file has already been generated. See Appendix for how to obtain UCSC reference file."
   ]
  },
  {
   "cell_type": "code",
   "execution_count": 3,
   "metadata": {},
   "outputs": [
    {
     "name": "stderr",
     "output_type": "stream",
     "text": [
      "01:31:40 - GarNet: INFO -   - TSS file seems to already exists at ../garnet_data/reference/ucsc_reference.hg19.tss.bed\n",
      "01:31:40 - GarNet: INFO -   - Searching for motifs near genes. This may take a while...\n",
      "01:31:49 - GarNet: INFO -   - 181422 motif-gene associations found and written to ../garnet_data/cisBP_hg19_SLIM/garnetDB_cisBP.hg19.LOD.10kb.chr1_SLIM.tsv\n"
     ]
    },
    {
     "data": {
      "text/html": [
       "<div>\n",
       "<table border=\"1\" class=\"dataframe\">\n",
       "  <thead>\n",
       "    <tr style=\"text-align: right;\">\n",
       "      <th></th>\n",
       "      <th>motifChrom</th>\n",
       "      <th>motifStart</th>\n",
       "      <th>motifEnd</th>\n",
       "      <th>motifName</th>\n",
       "      <th>motifScore</th>\n",
       "      <th>motifStrand</th>\n",
       "      <th>geneName</th>\n",
       "      <th>tssStart</th>\n",
       "      <th>tssEnd</th>\n",
       "      <th>motif_gene_distance</th>\n",
       "    </tr>\n",
       "  </thead>\n",
       "  <tbody>\n",
       "    <tr>\n",
       "      <th>0</th>\n",
       "      <td>chr1</td>\n",
       "      <td>17000</td>\n",
       "      <td>17008</td>\n",
       "      <td>HOXA4</td>\n",
       "      <td>8.846505</td>\n",
       "      <td>+</td>\n",
       "      <td>DDX11L1</td>\n",
       "      <td>11873</td>\n",
       "      <td>11874</td>\n",
       "      <td>5135</td>\n",
       "    </tr>\n",
       "    <tr>\n",
       "      <th>1</th>\n",
       "      <td>chr1</td>\n",
       "      <td>18055</td>\n",
       "      <td>18067</td>\n",
       "      <td>LMO2</td>\n",
       "      <td>8.768321</td>\n",
       "      <td>+</td>\n",
       "      <td>DDX11L1</td>\n",
       "      <td>11873</td>\n",
       "      <td>11874</td>\n",
       "      <td>6194</td>\n",
       "    </tr>\n",
       "    <tr>\n",
       "      <th>2</th>\n",
       "      <td>chr1</td>\n",
       "      <td>18339</td>\n",
       "      <td>18351</td>\n",
       "      <td>LMO2</td>\n",
       "      <td>8.901481</td>\n",
       "      <td>+</td>\n",
       "      <td>DDX11L1</td>\n",
       "      <td>11873</td>\n",
       "      <td>11874</td>\n",
       "      <td>6478</td>\n",
       "    </tr>\n",
       "    <tr>\n",
       "      <th>3</th>\n",
       "      <td>chr1</td>\n",
       "      <td>19086</td>\n",
       "      <td>19096</td>\n",
       "      <td>SREBF1</td>\n",
       "      <td>11.043803</td>\n",
       "      <td>-</td>\n",
       "      <td>DDX11L1</td>\n",
       "      <td>11873</td>\n",
       "      <td>11874</td>\n",
       "      <td>7213</td>\n",
       "    </tr>\n",
       "    <tr>\n",
       "      <th>4</th>\n",
       "      <td>chr1</td>\n",
       "      <td>19858</td>\n",
       "      <td>19866</td>\n",
       "      <td>HOXA4</td>\n",
       "      <td>8.539458</td>\n",
       "      <td>+</td>\n",
       "      <td>DDX11L1</td>\n",
       "      <td>11873</td>\n",
       "      <td>11874</td>\n",
       "      <td>7993</td>\n",
       "    </tr>\n",
       "  </tbody>\n",
       "</table>\n",
       "</div>"
      ],
      "text/plain": [
       "  motifChrom  motifStart  motifEnd motifName  motifScore motifStrand geneName  \\\n",
       "0       chr1       17000     17008     HOXA4    8.846505           +  DDX11L1   \n",
       "1       chr1       18055     18067      LMO2    8.768321           +  DDX11L1   \n",
       "2       chr1       18339     18351      LMO2    8.901481           +  DDX11L1   \n",
       "3       chr1       19086     19096    SREBF1   11.043803           -  DDX11L1   \n",
       "4       chr1       19858     19866     HOXA4    8.539458           +  DDX11L1   \n",
       "\n",
       "   tssStart  tssEnd  motif_gene_distance  \n",
       "0     11873   11874                 5135  \n",
       "1     11873   11874                 6194  \n",
       "2     11873   11874                 6478  \n",
       "3     11873   11874                 7213  \n",
       "4     11873   11874                 7993  "
      ]
     },
     "execution_count": 3,
     "metadata": {},
     "output_type": "execute_result"
    }
   ],
   "source": [
    "reference_filepath = \"../garnet_data/reference/ucsc_reference.hg19.bed\"\n",
    "motif_filepath = \"../garnet_data/cisBP_hg19_SLIM/cisBP.hg19.LOD.10kb.chr1_SLIM.bed\"\n",
    "garnet_filepath = \"../garnet_data/cisBP_hg19_SLIM/garnetDB_cisBP.hg19.LOD.10kb.chr1_SLIM.tsv\"\n",
    "\n",
    "garnet_df = garnet.construct_garnet_file(reference_filepath, motif_filepath, garnet_filepath)\n",
    "garnet_df.head()"
   ]
  },
  {
   "cell_type": "markdown",
   "metadata": {},
   "source": [
    "# Map peaks to genes using a549 data\n",
    "\n",
    "This is accomplished by intersecting motifs with genes specified in the open chromatin bed file. "
   ]
  },
  {
   "cell_type": "code",
   "execution_count": null,
   "metadata": {},
   "outputs": [],
   "source": [
    "garnet_filepath = \"../garnet_data/cisBP_hg19_SLIM/garnetDB_cisBP.hg19.LOD.10kb.chr1_SLIM.tsv\"\n",
    "peaks_filepath = \"a549_example_peaks.bed\"\n",
    "\n",
    "df = garnet.map_peaks(peaks_filepath, garnet_filepath)\n",
    "df.head()"
   ]
  },
  {
   "cell_type": "markdown",
   "metadata": {},
   "source": [
    "# Regress gene expression against TF Motif binding score"
   ]
  },
  {
   "cell_type": "markdown",
   "metadata": {},
   "source": [
    "Perform regression, plots are automatically generated in `regression_plots/`. "
   ]
  },
  {
   "cell_type": "code",
   "execution_count": null,
   "metadata": {
    "scrolled": true
   },
   "outputs": [],
   "source": [
    "expression_filepath = \"a549_example_expression.txt\"\n",
    "\n",
    "results = garnet.TF_regression(df, expression_filepath, \".\")\n",
    "results.head(10)"
   ]
  },
  {
   "cell_type": "markdown",
   "metadata": {},
   "source": [
    "# Appendix\n",
    "\n",
    "## Download and format reference file\n",
    "\n",
    "### 1. Download UCSC known genes file\n",
    "\n",
    "Visit [UCSC Table Browser](https://genome.ucsc.edu/cgi-bin/hgTables?command=start) and select the following options\n",
    "\n",
    " - **assembly**: Feb. 2009 (GRCh37/hg19)\n",
    " - **group**: Genes and Gene Predictions\n",
    " - **track**: UCSC Genes\n",
    " - **table**: knownGene\n",
    " - **region**: genome\n",
    " - **output format**: selected fields from primary and related tables\n",
    "\n",
    "Press \"get output\", clear all fields, then check the following fields:\n",
    "\n",
    " - chrom\n",
    " - strand\n",
    " - txStart\n",
    " - txEnd\n",
    " - geneSymbol\n",
    " \n",
    "Press \"get output\" again, and save the table locally. A copy (retrieved 9/11/2017) is saved in `../garnet_data/reference/ucsc_known_genes.hg19.tsv`.\n",
    "\n",
    "### 2. Reformat to BED file"
   ]
  },
  {
   "cell_type": "code",
   "execution_count": null,
   "metadata": {},
   "outputs": [],
   "source": [
    "ucsc_reference = pd.read_csv(\"../garnet_data/reference/ucsc_known_genes.hg19.tsv\", sep='\\t', names=[\"chrom\", \"strand\", \"chromStart\", \"chromEnd\", \"name\"], comment=\"#\")\n",
    "ucsc_reference.drop_duplicates(inplace=True)\n",
    "ucsc_reference[\"score\"] = \".\"\n",
    "ucsc_reference.head()"
   ]
  },
  {
   "cell_type": "code",
   "execution_count": null,
   "metadata": {},
   "outputs": [],
   "source": [
    "ucsc_reference_bed = ucsc_reference[[\"chrom\", \"chromStart\", \"chromEnd\", \"name\", \"score\", \"strand\"]]\n",
    "ucsc_reference_bed.head()"
   ]
  },
  {
   "cell_type": "code",
   "execution_count": null,
   "metadata": {
    "collapsed": true
   },
   "outputs": [],
   "source": [
    "ucsc_reference_bed.to_csv(\"../garnet_data/reference/ucsc_reference.hg19.bed\", sep='\\t', header=False, index=False)"
   ]
  },
  {
   "cell_type": "code",
   "execution_count": null,
   "metadata": {
    "collapsed": true
   },
   "outputs": [],
   "source": []
  }
 ],
 "metadata": {
  "kernelspec": {
   "display_name": "Python 3",
   "language": "python",
   "name": "python3"
  },
  "language_info": {
   "codemirror_mode": {
    "name": "ipython",
    "version": 3
   },
   "file_extension": ".py",
   "mimetype": "text/x-python",
   "name": "python",
   "nbconvert_exporter": "python",
   "pygments_lexer": "ipython3",
   "version": "3.6.0"
  }
 },
 "nbformat": 4,
 "nbformat_minor": 1
}
